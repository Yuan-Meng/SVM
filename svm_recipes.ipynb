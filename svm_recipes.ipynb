{
 "cells": [
  {
   "cell_type": "markdown",
   "metadata": {},
   "source": [
    "# Predict recipe ratings"
   ]
  },
  {
   "cell_type": "markdown",
   "metadata": {},
   "source": [
    "## Task\n",
    "The [Epicurious](https://www.kaggle.com/hugodarwood/epirecipes) dataset on Kaggle has \"20k recipes listed by recipe rating, nutritional information and, assigned category (sparse)\". We can potentially u"
   ]
  },
  {
   "cell_type": "markdown",
   "metadata": {
    "persistent_id": "ba612739-15a1-4be3-aa9b-e1b5c20a882a"
   },
   "source": [
    "## Model preparation"
   ]
  },
  {
   "cell_type": "code",
   "execution_count": 1,
   "metadata": {
    "execution_event_id": "1f0f7722-6f1c-4a37-930d-a91030aaf574",
    "last_executed_text": "import numpy as np\nimport pandas as pd\nimport scipy\nimport matplotlib.pyplot as plt\nimport seaborn as sns\n%matplotlib inline",
    "persistent_id": "35d2ba8c-325f-4915-b4f8-0a91bbbf2a08"
   },
   "outputs": [],
   "source": [
    "import numpy as np\n",
    "import pandas as pd\n",
    "import scipy\n",
    "import matplotlib.pyplot as plt\n",
    "import seaborn as sns\n",
    "%matplotlib inline"
   ]
  },
  {
   "cell_type": "markdown",
   "metadata": {
    "persistent_id": "93e245f0-37b3-48f9-93d1-29c805d8b3b6"
   },
   "source": [
    "### Load data"
   ]
  },
  {
   "cell_type": "code",
   "execution_count": 2,
   "metadata": {
    "execution_event_id": "a23ae3b6-ee55-42c7-a57b-b29454d92c2c",
    "last_executed_text": "raw_data = pd.read_csv('https://tf-assets-prod.s3.amazonaws.com/tf-curric/data-science/epi_r.csv')",
    "persistent_id": "0b0ffa69-32e9-437d-800b-9e848935eaea"
   },
   "outputs": [],
   "source": [
    "raw_data = pd.read_csv('https://tf-assets-prod.s3.amazonaws.com/tf-curric/data-science/epi_r.csv')"
   ]
  }
 ],
 "metadata": {
  "history": [
   {
    "cell": {
     "executionCount": 1,
     "executionEventId": "1f0f7722-6f1c-4a37-930d-a91030aaf574",
     "hasError": false,
     "id": "bdb54060-bd75-4f23-85c4-5a2d74f926bd",
     "outputs": [],
     "persistentId": "35d2ba8c-325f-4915-b4f8-0a91bbbf2a08",
     "text": "import numpy as np\nimport pandas as pd\nimport scipy\nimport matplotlib.pyplot as plt\nimport seaborn as sns\n%matplotlib inline"
    },
    "executionTime": "2020-01-17T01:31:45.329Z"
   },
   {
    "cell": {
     "executionCount": 2,
     "executionEventId": "a23ae3b6-ee55-42c7-a57b-b29454d92c2c",
     "hasError": false,
     "id": "d8dfd7dd-dba8-4e0c-a216-e116dc2c92a5",
     "outputs": [],
     "persistentId": "0b0ffa69-32e9-437d-800b-9e848935eaea",
     "text": "raw_data = pd.read_csv('https://tf-assets-prod.s3.amazonaws.com/tf-curric/data-science/epi_r.csv')"
    },
    "executionTime": "2020-01-17T01:32:15.178Z"
   }
  ],
  "kernelspec": {
   "display_name": "Python 3",
   "language": "python",
   "name": "python3"
  },
  "language_info": {
   "codemirror_mode": {
    "name": "ipython",
    "version": 3
   },
   "file_extension": ".py",
   "mimetype": "text/x-python",
   "name": "python",
   "nbconvert_exporter": "python",
   "pygments_lexer": "ipython3",
   "version": "3.7.3"
  },
  "uuid": "0900ac4a-9ea5-4804-890b-ca26592aaf7b"
 },
 "nbformat": 4,
 "nbformat_minor": 4
}
